{
 "cells": [
  {
   "cell_type": "markdown",
   "metadata": {
    "id": "I__gs9I-MQfx"
   },
   "source": [
    "# **STA 141C Final Project**\n",
    "## Pneumonia Prediction by X-Ray Imaging\n",
    "\n",
    "Sung Woo Bak, Jonathan Casas-Ramirez, Adam Hetherwick, Jose Arreola Muñoz\n",
    "\n",
    "Note: Due to the limitation of equipment, total dataset or subset dataset code is executed separately.\n"
   ]
  },
  {
   "cell_type": "code",
   "execution_count": 52,
   "metadata": {
    "id": "Gh1uIkwPlrYr"
   },
   "outputs": [],
   "source": [
    "# Packages\n",
    "import numpy as np\n",
    "import matplotlib.pyplot as plt\n",
    "import seaborn as sns\n",
    "import os\n",
    "import sys\n",
    "\n",
    "# Kaggle\n",
    "os.environ['KAGGLE_USERNAME'] = \"sungwoobak\"\n",
    "os.environ['KAGGLE_KEY'] = \"2f7b029f03935cee9b45233ebef3e782\"\n",
    "\n",
    "import kaggle\n",
    "import zipfile\n",
    "import pandas as pd\n",
    "import cv2\n",
    "from cv2 import imread, IMREAD_GRAYSCALE, resize\n",
    "\n",
    "from sklearn.linear_model import LogisticRegression\n",
    "from sklearn.discriminant_analysis import QuadraticDiscriminantAnalysis, LinearDiscriminantAnalysis\n",
    "from sklearn.model_selection import cross_val_score, KFold\n",
    "from sklearn.metrics import accuracy_score, confusion_matrix\n",
    "\n",
    "# Tensorflow Keras API for Neural Network\n",
    "import tensorflow as tf\n",
    "from keras.models import Sequential, load_model\n",
    "from keras.layers import Dense, Dropout, Flatten, Conv2D, MaxPooling2D, BatchNormalization, LeakyReLU\n",
    "from keras.callbacks import ModelCheckpoint, EarlyStopping\n",
    "from keras.datasets import mnist\n",
    "from keras.utils import to_categorical\n",
    "from keras.callbacks import EarlyStopping\n",
    "\n",
    "#from tensorflow.keras.optimizers import Adam"
   ]
  },
  {
   "cell_type": "code",
   "execution_count": 4,
   "metadata": {
    "colab": {
     "base_uri": "https://localhost:8080/"
    },
    "id": "rdY9Bhjjlzbc",
    "outputId": "96426cd1-236e-4fd1-b87a-5b193741342c"
   },
   "outputs": [
    {
     "name": "stdout",
     "output_type": "stream",
     "text": [
      "coronahack-chest-xraydataset.zip: Skipping, found more recently modified local copy (use --force to force download)\n"
     ]
    }
   ],
   "source": [
    "# Download dataset\n",
    "!kaggle datasets download -d praveengovi/coronahack-chest-xraydataset -p /content/datasets\n",
    "\n",
    "# Unzip dataset\n",
    "zip_path = '/content/datasets/coronahack-chest-xraydataset.zip'\n",
    "unzip_path = '/content/datasets/'\n",
    "\n",
    "with zipfile.ZipFile(zip_path, 'r') as zip_ref:\n",
    "    zip_ref.extractall(unzip_path)"
   ]
  },
  {
   "cell_type": "markdown",
   "metadata": {
    "id": "uT1KzLzEmVUO"
   },
   "source": [
    "## Dataset"
   ]
  },
  {
   "cell_type": "markdown",
   "metadata": {
    "id": "NvSs8GjoDV2f"
   },
   "source": [
    "### Subset"
   ]
  },
  {
   "cell_type": "code",
   "execution_count": 5,
   "metadata": {
    "id": "DcTrRuARCLr6"
   },
   "outputs": [],
   "source": [
    "# Importing Dataset\n",
    "meta = pd.read_csv('/content/datasets/Chest_xray_Corona_Metadata.csv')"
   ]
  },
  {
   "cell_type": "code",
   "execution_count": 28,
   "metadata": {
    "id": "Xa-RKfywC2yq"
   },
   "outputs": [],
   "source": [
    "# This part is for Subset of Train Data\n",
    "\n",
    "train_sub = meta[meta.Dataset_type == 'TRAIN'].reset_index(drop=True)\n",
    "test_set = meta[meta.Dataset_type == 'TEST'].reset_index(drop=True)\n",
    "\n",
    "normal_data = train_sub[train_sub['Label'] == 'Normal'].sample(n=1342, replace=False)\n",
    "pneumonia_data = train_sub[train_sub['Label'] == 'Pnemonia'].sample(n=1342, replace=False)\n",
    "bal_train = pd.concat([normal_data, pneumonia_data], axis=0).reset_index(drop=True)\n",
    "\n",
    "train_label = bal_train['Label']\n",
    "train_img = bal_train['X_ray_image_name']\n",
    "\n",
    "test_label = test_set['Label']\n",
    "test_img = test_set['X_ray_image_name']\n",
    "\n",
    "# Directories\n",
    "data_folder = '/content/datasets'\n",
    "train_folder = '/content/datasets/Coronahack-Chest-XRay-Dataset/Coronahack-Chest-XRay-Dataset/train/'\n",
    "test_folder = '/content/datasets/Coronahack-Chest-XRay-Dataset/Coronahack-Chest-XRay-Dataset/test/'\n",
    "\n",
    "train_path = []\n",
    "for img in train_img:\n",
    "  temp = train_folder + img\n",
    "  train_path.append(temp)\n",
    "\n",
    "test_path = []\n",
    "for img in test_img:\n",
    "  temp = test_folder + img\n",
    "  test_path.append(temp)"
   ]
  },
  {
   "cell_type": "code",
   "execution_count": 66,
   "metadata": {
    "colab": {
     "base_uri": "https://localhost:8080/"
    },
    "id": "-Z52jTZib2EG",
    "outputId": "3d9f343f-3fe7-45cd-ecd8-47b46988e195"
   },
   "outputs": [
    {
     "data": {
      "text/plain": [
       "Pnemonia    390\n",
       "Normal      234\n",
       "Name: Label, dtype: int64"
      ]
     },
     "execution_count": 66,
     "metadata": {},
     "output_type": "execute_result"
    }
   ],
   "source": [
    "test_set['Label'].value_counts()"
   ]
  },
  {
   "cell_type": "markdown",
   "metadata": {
    "id": "JU_euiI-DbHD"
   },
   "source": [
    "### Total Dataset"
   ]
  },
  {
   "cell_type": "code",
   "execution_count": null,
   "metadata": {
    "id": "UtCaIIvFl4Tn"
   },
   "outputs": [],
   "source": [
    "# Importing Dataset\n",
    "meta = pd.read_csv('/content/datasets/Chest_xray_Corona_Metadata.csv')\n",
    "\n",
    "# Train and Test set\n",
    "train_set = meta[meta.Dataset_type == 'TRAIN'].reset_index(drop=True)\n",
    "test_set = meta[meta.Dataset_type == 'TEST'].reset_index(drop=True)\n",
    "\n",
    "train_label = train_set['Label']\n",
    "train_img = train_set['X_ray_image_name']\n",
    "\n",
    "test_label = test_set['Label']\n",
    "test_img = test_set['X_ray_image_name']\n",
    "\n",
    "# Directories\n",
    "data_folder = '/content/datasets'\n",
    "train_folder = '/content/datasets/Coronahack-Chest-XRay-Dataset/Coronahack-Chest-XRay-Dataset/train/'\n",
    "test_folder = '/content/datasets/Coronahack-Chest-XRay-Dataset/Coronahack-Chest-XRay-Dataset/test/'\n",
    "\n",
    "train_path = []\n",
    "for img in train_img:\n",
    "  temp = train_folder + img\n",
    "  train_path.append(temp)\n",
    "\n",
    "test_path = []\n",
    "for img in test_img:\n",
    "  temp = test_folder + img\n",
    "  test_path.append(temp)\n",
    "\n",
    "\n",
    "# Train and Test set\n",
    "train_set = meta[meta.Dataset_type == 'TRAIN'].reset_index(drop=True)\n",
    "test_set = meta[meta.Dataset_type == 'TEST'].reset_index(drop=True)\n",
    "\n",
    "train_label = train_set['Label']\n",
    "train_img = train_set['X_ray_image_name']\n",
    "\n",
    "test_label = test_set['Label']\n",
    "test_img = test_set['X_ray_image_name']"
   ]
  },
  {
   "cell_type": "markdown",
   "metadata": {
    "id": "0PquCmHiucwA"
   },
   "source": [
    "## Load/Preprocess Image Data"
   ]
  },
  {
   "cell_type": "code",
   "execution_count": 34,
   "metadata": {
    "id": "h5p5uF9ymVGG"
   },
   "outputs": [],
   "source": [
    "def load_image(img_path, size):\n",
    "  '''\n",
    "  load_image function takes the path of the image as input and returns the resized image.\n",
    "  It uses the imread and resize functions from the cv2 library to read the image.\n",
    "  Input : list of image paths\n",
    "  targer : size of the image\n",
    "  Output : list of resized images (a by a)\n",
    "  '''\n",
    "  # Load images\n",
    "  images = []\n",
    "\n",
    "  for index, path in enumerate(img_path):\n",
    "    img = imread(path, IMREAD_GRAYSCALE)\n",
    "\n",
    "    # Resize Images\n",
    "    height, width = img.shape\n",
    "    if width > height:\n",
    "      new_width = int(width * (size / height))\n",
    "      new_height = size\n",
    "    else:\n",
    "      new_width = size\n",
    "      new_height = int(height * (size / width))\n",
    "\n",
    "    resized_img = cv2.resize(img, (new_width, new_height))\n",
    "    start_x = (new_width - size) // 2\n",
    "    start_y = (new_height - size) // 2\n",
    "    cropped_img = resized_img[start_y:start_y + size, start_x:start_x + size]\n",
    "\n",
    "    images.append(cropped_img)\n",
    "\n",
    "  # Image Normalization\n",
    "  images = np.array(images)\n",
    "  images = images.reshape(images.shape[0], size, size, 1).astype('float32') / 255\n",
    "\n",
    "  return images"
   ]
  },
  {
   "cell_type": "code",
   "execution_count": 38,
   "metadata": {
    "colab": {
     "base_uri": "https://localhost:8080/"
    },
    "id": "5In-2gl2rRDR",
    "outputId": "f420e854-7844-47e4-91ae-c94db93b521e"
   },
   "outputs": [
    {
     "data": {
      "text/plain": [
       "(2684, 624)"
      ]
     },
     "execution_count": 38,
     "metadata": {},
     "output_type": "execute_result"
    }
   ],
   "source": [
    "train_images = load_image(train_path, 128) # 128 by 128 Images\n",
    "test_images = load_image(test_path, 128)\n",
    "len(train_images), len(test_images)"
   ]
  },
  {
   "cell_type": "markdown",
   "metadata": {
    "id": "k0U0v5v3mXf9"
   },
   "source": [
    "## Convolution Neural Network using Tensorflow"
   ]
  },
  {
   "cell_type": "code",
   "execution_count": 39,
   "metadata": {
    "id": "oJ1MklT-mTdO"
   },
   "outputs": [],
   "source": [
    "# CNN\n",
    "cnn = Sequential()\n",
    "\n",
    "cnn.add(Conv2D(64,(3,3), input_shape=(128, 128, 1)))\n",
    "cnn.add(LeakyReLU(alpha=0.2))\n",
    "cnn.add(BatchNormalization())\n",
    "cnn.add(Conv2D(64,(3,3)))\n",
    "cnn.add(LeakyReLU(alpha=0.2))\n",
    "cnn.add(BatchNormalization())\n",
    "cnn.add(MaxPooling2D(pool_size=(2,2)))\n",
    "\n",
    "cnn.add(Conv2D(64,(3,3)))\n",
    "cnn.add(LeakyReLU(alpha=0.2))\n",
    "cnn.add(BatchNormalization())\n",
    "cnn.add(Conv2D(64,(3,3)))\n",
    "cnn.add(LeakyReLU(alpha=0.2))\n",
    "cnn.add(BatchNormalization())\n",
    "cnn.add(MaxPooling2D(pool_size=(2,2)))\n",
    "\n",
    "cnn.add(Dropout(0.5))\n",
    "cnn.add(Flatten())\n",
    "cnn.add(Dense(128))\n",
    "cnn.add(LeakyReLU(alpha=0.2))\n",
    "cnn.add(Dense(64))\n",
    "cnn.add(LeakyReLU(alpha=0.2))\n",
    "cnn.add(Dense(32))\n",
    "cnn.add(Dropout(0.5))\n",
    "cnn.add(LeakyReLU(alpha=0.2))\n",
    "cnn.add(Dropout(0.5))\n",
    "cnn.add(Dense(1, activation='sigmoid'))\n",
    "\n",
    "# Compile\n",
    "cnn.compile(optimizer='adam', loss='binary_crossentropy', metrics=['accuracy'])"
   ]
  },
  {
   "cell_type": "code",
   "execution_count": 40,
   "metadata": {
    "id": "6enM8J1g-DbA"
   },
   "outputs": [],
   "source": [
    "train_labels = [1 if y == 'Pnemonia' else 0 for y in train_label]\n",
    "test_labels = [1 if y == 'Pnemonia' else 0 for y in test_label]\n",
    "\n",
    "train_labels = np.array(train_labels)\n",
    "test_labels = np.array(test_labels)"
   ]
  },
  {
   "cell_type": "code",
   "execution_count": 43,
   "metadata": {
    "colab": {
     "base_uri": "https://localhost:8080/"
    },
    "id": "v8_f-OnPAwR6",
    "outputId": "befb1400-ce7e-4860-df26-c76576bf1298"
   },
   "outputs": [
    {
     "name": "stdout",
     "output_type": "stream",
     "text": [
      "Epoch 1/30\n",
      "84/84 [==============================] - 10s 113ms/step - loss: 0.0496 - accuracy: 0.9728 - val_loss: 7.6514 - val_accuracy: 0.7324\n",
      "Epoch 2/30\n",
      "84/84 [==============================] - 9s 111ms/step - loss: 0.0497 - accuracy: 0.9713 - val_loss: 13.1854 - val_accuracy: 0.6987\n",
      "Epoch 3/30\n",
      "84/84 [==============================] - 9s 111ms/step - loss: 0.0357 - accuracy: 0.9776 - val_loss: 8.6210 - val_accuracy: 0.7228\n",
      "Epoch 4/30\n",
      "84/84 [==============================] - 9s 111ms/step - loss: 0.0340 - accuracy: 0.9806 - val_loss: 4.7064 - val_accuracy: 0.7853\n",
      "Epoch 5/30\n",
      "84/84 [==============================] - 9s 111ms/step - loss: 0.0420 - accuracy: 0.9829 - val_loss: 4.3811 - val_accuracy: 0.7837\n",
      "Epoch 6/30\n",
      "84/84 [==============================] - 9s 112ms/step - loss: 0.0218 - accuracy: 0.9873 - val_loss: 2.6063 - val_accuracy: 0.8173\n",
      "Epoch 7/30\n",
      "84/84 [==============================] - 9s 112ms/step - loss: 0.0554 - accuracy: 0.9694 - val_loss: 3.4280 - val_accuracy: 0.8029\n",
      "Epoch 8/30\n",
      "84/84 [==============================] - 9s 112ms/step - loss: 0.0336 - accuracy: 0.9810 - val_loss: 6.6555 - val_accuracy: 0.7179\n",
      "Epoch 9/30\n",
      "84/84 [==============================] - 9s 112ms/step - loss: 0.0149 - accuracy: 0.9929 - val_loss: 7.6468 - val_accuracy: 0.7532\n",
      "Epoch 10/30\n",
      "84/84 [==============================] - 9s 112ms/step - loss: 0.0078 - accuracy: 0.9937 - val_loss: 9.4870 - val_accuracy: 0.7500\n",
      "Epoch 11/30\n",
      "84/84 [==============================] - 9s 112ms/step - loss: 0.0212 - accuracy: 0.9896 - val_loss: 4.4107 - val_accuracy: 0.7692\n",
      "Epoch 12/30\n",
      "84/84 [==============================] - 9s 112ms/step - loss: 0.0245 - accuracy: 0.9888 - val_loss: 4.1621 - val_accuracy: 0.7676\n",
      "Epoch 13/30\n",
      "84/84 [==============================] - 9s 112ms/step - loss: 0.0126 - accuracy: 0.9918 - val_loss: 6.4803 - val_accuracy: 0.7901\n",
      "Epoch 14/30\n",
      "84/84 [==============================] - 9s 113ms/step - loss: 0.0075 - accuracy: 0.9952 - val_loss: 4.3174 - val_accuracy: 0.8285\n",
      "Epoch 15/30\n",
      "84/84 [==============================] - 9s 113ms/step - loss: 0.0075 - accuracy: 0.9952 - val_loss: 9.2874 - val_accuracy: 0.7548\n",
      "Epoch 16/30\n",
      "84/84 [==============================] - 9s 113ms/step - loss: 0.0061 - accuracy: 0.9966 - val_loss: 7.8061 - val_accuracy: 0.7837\n",
      "Epoch 17/30\n",
      "84/84 [==============================] - 9s 113ms/step - loss: 0.0034 - accuracy: 0.9978 - val_loss: 10.3329 - val_accuracy: 0.7644\n",
      "Epoch 18/30\n",
      "84/84 [==============================] - 9s 113ms/step - loss: 0.0087 - accuracy: 0.9963 - val_loss: 2.7753 - val_accuracy: 0.8253\n",
      "Epoch 19/30\n",
      "84/84 [==============================] - 9s 113ms/step - loss: 0.0065 - accuracy: 0.9963 - val_loss: 7.3725 - val_accuracy: 0.8045\n",
      "Epoch 20/30\n",
      "84/84 [==============================] - 9s 113ms/step - loss: 0.0100 - accuracy: 0.9918 - val_loss: 13.1112 - val_accuracy: 0.7356\n",
      "Epoch 21/30\n",
      "84/84 [==============================] - 10s 113ms/step - loss: 0.0178 - accuracy: 0.9903 - val_loss: 5.7817 - val_accuracy: 0.7708\n",
      "Epoch 22/30\n",
      "84/84 [==============================] - 9s 113ms/step - loss: 0.0316 - accuracy: 0.9858 - val_loss: 4.8645 - val_accuracy: 0.7788\n",
      "Epoch 23/30\n",
      "84/84 [==============================] - 9s 113ms/step - loss: 0.0291 - accuracy: 0.9877 - val_loss: 12.4301 - val_accuracy: 0.6811\n",
      "Epoch 24/30\n",
      "84/84 [==============================] - ETA: 0s - loss: 0.0139 - accuracy: 0.9925Restoring model weights from the end of the best epoch: 14.\n",
      "84/84 [==============================] - 10s 113ms/step - loss: 0.0139 - accuracy: 0.9925 - val_loss: 8.4601 - val_accuracy: 0.7804\n",
      "Epoch 24: early stopping\n"
     ]
    }
   ],
   "source": [
    "# EarlyStopping\n",
    "early_stopping = EarlyStopping(monitor='val_accuracy', patience=10, verbose=1, restore_best_weights=True)\n",
    "\n",
    "# Class Weight\n",
    "class_weight = {0: (sum(train_labels == 0) / len(train_labels)), 1: (sum(train_labels == 1) / len(train_labels))}\n",
    "\n",
    "# Train CNN Model\n",
    "history = cnn.fit(train_images, train_labels, epochs=30, class_weight=class_weight, validation_data=(test_images, test_labels), callbacks=[early_stopping])"
   ]
  },
  {
   "cell_type": "code",
   "execution_count": 44,
   "metadata": {
    "colab": {
     "base_uri": "https://localhost:8080/"
    },
    "id": "eV-ziPNoTJs6",
    "outputId": "6ac55933-6cfb-434d-f3d4-e69489e6320f"
   },
   "outputs": [
    {
     "name": "stdout",
     "output_type": "stream",
     "text": [
      "20/20 [==============================] - 1s 26ms/step - loss: 4.3174 - accuracy: 0.8285\n"
     ]
    },
    {
     "data": {
      "text/plain": [
       "[4.317407608032227, 0.8285256624221802]"
      ]
     },
     "execution_count": 44,
     "metadata": {},
     "output_type": "execute_result"
    }
   ],
   "source": [
    "cnn.evaluate(test_images, test_labels)"
   ]
  },
  {
   "cell_type": "markdown",
   "metadata": {
    "id": "6FELGRysIucW"
   },
   "source": [
    "## K-Fold Cross-Validation"
   ]
  },
  {
   "cell_type": "code",
   "execution_count": 54,
   "metadata": {
    "colab": {
     "base_uri": "https://localhost:8080/"
    },
    "id": "7pbIQEE6JapZ",
    "outputId": "f2b63816-a383-48f9-8a35-c7a9a7057666"
   },
   "outputs": [
    {
     "name": "stdout",
     "output_type": "stream",
     "text": [
      "Epoch 1/30\n",
      "68/68 [==============================] - 12s 133ms/step - loss: 0.0777 - accuracy: 0.9716 - val_loss: 1.8862 - val_accuracy: 0.8883\n",
      "Epoch 2/30\n",
      "68/68 [==============================] - 7s 108ms/step - loss: 0.0685 - accuracy: 0.9744 - val_loss: 0.2051 - val_accuracy: 0.9460\n",
      "Epoch 3/30\n",
      "68/68 [==============================] - 7s 108ms/step - loss: 0.0673 - accuracy: 0.9790 - val_loss: 0.0437 - val_accuracy: 0.9888\n",
      "Epoch 4/30\n",
      "68/68 [==============================] - 7s 108ms/step - loss: 0.0161 - accuracy: 0.9921 - val_loss: 0.1320 - val_accuracy: 0.9721\n",
      "Epoch 5/30\n",
      "68/68 [==============================] - 7s 109ms/step - loss: 0.0053 - accuracy: 0.9963 - val_loss: 0.0247 - val_accuracy: 0.9944\n",
      "Epoch 6/30\n",
      "68/68 [==============================] - 7s 109ms/step - loss: 0.0141 - accuracy: 0.9925 - val_loss: 0.0339 - val_accuracy: 0.9926\n",
      "Epoch 7/30\n",
      "68/68 [==============================] - 7s 109ms/step - loss: 0.0181 - accuracy: 0.9916 - val_loss: 0.1413 - val_accuracy: 0.9721\n",
      "Epoch 8/30\n",
      "68/68 [==============================] - 7s 109ms/step - loss: 0.0181 - accuracy: 0.9921 - val_loss: 0.6662 - val_accuracy: 0.9218\n",
      "Epoch 9/30\n",
      "68/68 [==============================] - 7s 109ms/step - loss: 0.0097 - accuracy: 0.9944 - val_loss: 0.5228 - val_accuracy: 0.9292\n",
      "Epoch 10/30\n",
      "68/68 [==============================] - 7s 109ms/step - loss: 0.0222 - accuracy: 0.9888 - val_loss: 1.0789 - val_accuracy: 0.8901\n",
      "Epoch 11/30\n",
      "68/68 [==============================] - 7s 110ms/step - loss: 0.0153 - accuracy: 0.9925 - val_loss: 0.0853 - val_accuracy: 0.9888\n",
      "Epoch 12/30\n",
      "68/68 [==============================] - 7s 110ms/step - loss: 0.0088 - accuracy: 0.9953 - val_loss: 0.1524 - val_accuracy: 0.9758\n",
      "Epoch 13/30\n",
      "68/68 [==============================] - 7s 110ms/step - loss: 0.0043 - accuracy: 0.9972 - val_loss: 0.0734 - val_accuracy: 0.9870\n",
      "Epoch 14/30\n",
      "68/68 [==============================] - 7s 110ms/step - loss: 0.0023 - accuracy: 0.9981 - val_loss: 0.0671 - val_accuracy: 0.9907\n",
      "Epoch 15/30\n",
      "68/68 [==============================] - 7s 110ms/step - loss: 0.0170 - accuracy: 0.9939 - val_loss: 0.3752 - val_accuracy: 0.9441\n",
      "Epoch 16/30\n",
      "68/68 [==============================] - 7s 110ms/step - loss: 0.0174 - accuracy: 0.9888 - val_loss: 0.2865 - val_accuracy: 0.9534\n",
      "Epoch 17/30\n",
      "68/68 [==============================] - 7s 110ms/step - loss: 0.0220 - accuracy: 0.9898 - val_loss: 0.0951 - val_accuracy: 0.9758\n",
      "Epoch 18/30\n",
      "68/68 [==============================] - 7s 110ms/step - loss: 0.0026 - accuracy: 0.9986 - val_loss: 0.0918 - val_accuracy: 0.9777\n",
      "Epoch 19/30\n",
      "68/68 [==============================] - 8s 111ms/step - loss: 0.0059 - accuracy: 0.9972 - val_loss: 0.2494 - val_accuracy: 0.9665\n",
      "Epoch 20/30\n",
      "68/68 [==============================] - 8s 111ms/step - loss: 0.0117 - accuracy: 0.9944 - val_loss: 0.2786 - val_accuracy: 0.9516\n",
      "Epoch 21/30\n",
      "68/68 [==============================] - 8s 111ms/step - loss: 0.0033 - accuracy: 0.9981 - val_loss: 0.1805 - val_accuracy: 0.9665\n",
      "Epoch 22/30\n",
      "68/68 [==============================] - 8s 111ms/step - loss: 0.0041 - accuracy: 0.9967 - val_loss: 0.9323 - val_accuracy: 0.9236\n",
      "Epoch 23/30\n",
      "68/68 [==============================] - 8s 111ms/step - loss: 0.0112 - accuracy: 0.9930 - val_loss: 0.1000 - val_accuracy: 0.9702\n",
      "Epoch 24/30\n",
      "68/68 [==============================] - 8s 111ms/step - loss: 0.0013 - accuracy: 0.9995 - val_loss: 0.0850 - val_accuracy: 0.9851\n",
      "Epoch 25/30\n",
      "68/68 [==============================] - 8s 111ms/step - loss: 3.7895e-04 - accuracy: 1.0000 - val_loss: 0.0393 - val_accuracy: 0.9888\n",
      "Epoch 26/30\n",
      "68/68 [==============================] - 8s 111ms/step - loss: 0.0050 - accuracy: 0.9977 - val_loss: 2.2348 - val_accuracy: 0.8641\n",
      "Epoch 27/30\n",
      "68/68 [==============================] - 8s 111ms/step - loss: 0.0088 - accuracy: 0.9939 - val_loss: 0.4650 - val_accuracy: 0.9497\n",
      "Epoch 28/30\n",
      "68/68 [==============================] - 8s 112ms/step - loss: 0.0073 - accuracy: 0.9953 - val_loss: 4.2742 - val_accuracy: 0.8417\n",
      "Epoch 29/30\n",
      "68/68 [==============================] - 8s 112ms/step - loss: 0.0031 - accuracy: 0.9972 - val_loss: 0.1268 - val_accuracy: 0.9832\n",
      "Epoch 30/30\n",
      "68/68 [==============================] - 8s 112ms/step - loss: 0.0058 - accuracy: 0.9977 - val_loss: 1.2939 - val_accuracy: 0.9069\n",
      "17/17 [==============================] - 0s 23ms/step - loss: 1.2939 - accuracy: 0.9069\n",
      "Epoch 1/30\n",
      "68/68 [==============================] - 11s 116ms/step - loss: 0.0325 - accuracy: 0.9912 - val_loss: 0.0187 - val_accuracy: 0.9963\n",
      "Epoch 2/30\n",
      "68/68 [==============================] - 8s 111ms/step - loss: 0.0300 - accuracy: 0.9865 - val_loss: 0.1362 - val_accuracy: 0.9758\n",
      "Epoch 3/30\n",
      "68/68 [==============================] - 8s 112ms/step - loss: 0.0037 - accuracy: 0.9972 - val_loss: 0.0029 - val_accuracy: 1.0000\n",
      "Epoch 4/30\n",
      "68/68 [==============================] - 8s 111ms/step - loss: 0.0077 - accuracy: 0.9953 - val_loss: 0.3365 - val_accuracy: 0.9479\n",
      "Epoch 5/30\n",
      "68/68 [==============================] - 8s 111ms/step - loss: 0.0212 - accuracy: 0.9888 - val_loss: 3.9633 - val_accuracy: 0.7374\n",
      "Epoch 6/30\n",
      "68/68 [==============================] - 8s 112ms/step - loss: 0.0127 - accuracy: 0.9944 - val_loss: 0.1706 - val_accuracy: 0.9739\n",
      "Epoch 7/30\n",
      "68/68 [==============================] - 8s 112ms/step - loss: 0.0029 - accuracy: 0.9981 - val_loss: 0.0014 - val_accuracy: 1.0000\n",
      "Epoch 8/30\n",
      "68/68 [==============================] - 8s 112ms/step - loss: 0.0026 - accuracy: 0.9986 - val_loss: 0.0452 - val_accuracy: 0.9926\n",
      "Epoch 9/30\n",
      "68/68 [==============================] - 8s 112ms/step - loss: 0.0391 - accuracy: 0.9851 - val_loss: 2.9168 - val_accuracy: 0.8045\n",
      "Epoch 10/30\n",
      "68/68 [==============================] - 8s 112ms/step - loss: 0.0120 - accuracy: 0.9930 - val_loss: 0.1978 - val_accuracy: 0.9721\n",
      "Epoch 11/30\n",
      "68/68 [==============================] - 8s 112ms/step - loss: 0.0013 - accuracy: 0.9995 - val_loss: 0.0526 - val_accuracy: 0.9814\n",
      "Epoch 12/30\n",
      "68/68 [==============================] - 8s 112ms/step - loss: 0.0069 - accuracy: 0.9953 - val_loss: 0.1474 - val_accuracy: 0.9832\n",
      "Epoch 13/30\n",
      "68/68 [==============================] - 8s 112ms/step - loss: 0.0020 - accuracy: 0.9981 - val_loss: 0.0345 - val_accuracy: 0.9888\n",
      "Epoch 14/30\n",
      "68/68 [==============================] - 8s 112ms/step - loss: 0.0022 - accuracy: 0.9972 - val_loss: 0.0074 - val_accuracy: 0.9963\n",
      "Epoch 15/30\n",
      "68/68 [==============================] - 8s 112ms/step - loss: 5.7412e-04 - accuracy: 0.9995 - val_loss: 0.0060 - val_accuracy: 0.9981\n",
      "Epoch 16/30\n",
      "68/68 [==============================] - 8s 112ms/step - loss: 0.0141 - accuracy: 0.9949 - val_loss: 0.1938 - val_accuracy: 0.9683\n",
      "Epoch 17/30\n",
      "68/68 [==============================] - 8s 112ms/step - loss: 0.0141 - accuracy: 0.9907 - val_loss: 0.0817 - val_accuracy: 0.9758\n",
      "Epoch 18/30\n",
      "68/68 [==============================] - 8s 112ms/step - loss: 0.0034 - accuracy: 0.9981 - val_loss: 0.1035 - val_accuracy: 0.9739\n",
      "Epoch 19/30\n",
      "68/68 [==============================] - 8s 112ms/step - loss: 4.8888e-04 - accuracy: 1.0000 - val_loss: 0.1836 - val_accuracy: 0.9646\n",
      "Epoch 20/30\n",
      "68/68 [==============================] - 8s 112ms/step - loss: 0.0096 - accuracy: 0.9958 - val_loss: 15.8826 - val_accuracy: 0.5400\n",
      "Epoch 21/30\n",
      "68/68 [==============================] - 8s 112ms/step - loss: 0.0359 - accuracy: 0.9879 - val_loss: 0.1465 - val_accuracy: 0.9572\n",
      "Epoch 22/30\n",
      "68/68 [==============================] - 8s 112ms/step - loss: 0.0038 - accuracy: 0.9967 - val_loss: 0.1423 - val_accuracy: 0.9832\n",
      "Epoch 23/30\n",
      "68/68 [==============================] - 8s 112ms/step - loss: 0.0026 - accuracy: 0.9991 - val_loss: 0.0194 - val_accuracy: 0.9944\n",
      "Epoch 24/30\n",
      "68/68 [==============================] - 8s 112ms/step - loss: 0.0125 - accuracy: 0.9967 - val_loss: 0.0915 - val_accuracy: 0.9777\n",
      "Epoch 25/30\n",
      "68/68 [==============================] - 8s 112ms/step - loss: 0.0024 - accuracy: 0.9981 - val_loss: 0.0568 - val_accuracy: 0.9888\n",
      "Epoch 26/30\n",
      "68/68 [==============================] - 8s 112ms/step - loss: 0.0023 - accuracy: 0.9995 - val_loss: 0.0223 - val_accuracy: 0.9907\n",
      "Epoch 27/30\n",
      "68/68 [==============================] - 8s 112ms/step - loss: 0.0011 - accuracy: 0.9991 - val_loss: 0.0206 - val_accuracy: 0.9944\n",
      "Epoch 28/30\n",
      "68/68 [==============================] - 8s 112ms/step - loss: 2.5303e-04 - accuracy: 1.0000 - val_loss: 0.0190 - val_accuracy: 0.9926\n",
      "Epoch 29/30\n",
      "68/68 [==============================] - 8s 113ms/step - loss: 3.5276e-04 - accuracy: 1.0000 - val_loss: 0.0247 - val_accuracy: 0.9907\n",
      "Epoch 30/30\n",
      "68/68 [==============================] - 8s 112ms/step - loss: 3.4329e-04 - accuracy: 0.9995 - val_loss: 0.0219 - val_accuracy: 0.9907\n",
      "17/17 [==============================] - 0s 23ms/step - loss: 0.0219 - accuracy: 0.9907\n",
      "Epoch 1/30\n",
      "68/68 [==============================] - 11s 117ms/step - loss: 0.0071 - accuracy: 0.9972 - val_loss: 0.5248 - val_accuracy: 0.9534\n",
      "Epoch 2/30\n",
      "68/68 [==============================] - 8s 112ms/step - loss: 0.0269 - accuracy: 0.9925 - val_loss: 0.2109 - val_accuracy: 0.9851\n",
      "Epoch 3/30\n",
      "68/68 [==============================] - 8s 112ms/step - loss: 0.0084 - accuracy: 0.9953 - val_loss: 0.0037 - val_accuracy: 0.9981\n",
      "Epoch 4/30\n",
      "68/68 [==============================] - 8s 112ms/step - loss: 0.0059 - accuracy: 0.9958 - val_loss: 0.0011 - val_accuracy: 1.0000\n",
      "Epoch 5/30\n",
      "68/68 [==============================] - 8s 112ms/step - loss: 0.0029 - accuracy: 0.9977 - val_loss: 0.0386 - val_accuracy: 0.9926\n",
      "Epoch 6/30\n",
      "68/68 [==============================] - 8s 112ms/step - loss: 0.0038 - accuracy: 0.9981 - val_loss: 0.0011 - val_accuracy: 1.0000\n",
      "Epoch 7/30\n",
      "68/68 [==============================] - 8s 113ms/step - loss: 1.3515e-04 - accuracy: 1.0000 - val_loss: 1.8712e-04 - val_accuracy: 1.0000\n",
      "Epoch 8/30\n",
      "68/68 [==============================] - 8s 113ms/step - loss: 2.8641e-04 - accuracy: 1.0000 - val_loss: 2.3021e-04 - val_accuracy: 1.0000\n",
      "Epoch 9/30\n",
      "68/68 [==============================] - 8s 113ms/step - loss: 2.1772e-04 - accuracy: 1.0000 - val_loss: 9.4582e-05 - val_accuracy: 1.0000\n",
      "Epoch 10/30\n",
      "68/68 [==============================] - 8s 113ms/step - loss: 6.5196e-05 - accuracy: 1.0000 - val_loss: 1.4175e-04 - val_accuracy: 1.0000\n",
      "Epoch 11/30\n",
      "68/68 [==============================] - 8s 113ms/step - loss: 6.5938e-05 - accuracy: 1.0000 - val_loss: 9.2335e-05 - val_accuracy: 1.0000\n",
      "Epoch 12/30\n",
      "68/68 [==============================] - 8s 113ms/step - loss: 6.3782e-05 - accuracy: 1.0000 - val_loss: 4.5081e-05 - val_accuracy: 1.0000\n",
      "Epoch 13/30\n",
      "68/68 [==============================] - 8s 113ms/step - loss: 6.4748e-05 - accuracy: 1.0000 - val_loss: 3.4813e-05 - val_accuracy: 1.0000\n",
      "Epoch 14/30\n",
      "68/68 [==============================] - 8s 113ms/step - loss: 6.4445e-05 - accuracy: 1.0000 - val_loss: 2.3129e-05 - val_accuracy: 1.0000\n",
      "Epoch 15/30\n",
      "68/68 [==============================] - 8s 113ms/step - loss: 2.1029e-04 - accuracy: 0.9995 - val_loss: 1.1548e-05 - val_accuracy: 1.0000\n",
      "Epoch 16/30\n",
      "68/68 [==============================] - 8s 112ms/step - loss: 2.4379e-04 - accuracy: 0.9995 - val_loss: 1.5561e-04 - val_accuracy: 1.0000\n",
      "Epoch 17/30\n",
      "68/68 [==============================] - 8s 112ms/step - loss: 4.3873e-04 - accuracy: 0.9995 - val_loss: 0.0171 - val_accuracy: 0.9963\n",
      "Epoch 18/30\n",
      "68/68 [==============================] - 8s 112ms/step - loss: 1.9365e-04 - accuracy: 0.9995 - val_loss: 0.0020 - val_accuracy: 1.0000\n",
      "Epoch 19/30\n",
      "68/68 [==============================] - 8s 112ms/step - loss: 8.5066e-05 - accuracy: 1.0000 - val_loss: 0.0039 - val_accuracy: 0.9981\n",
      "Epoch 20/30\n",
      "68/68 [==============================] - 8s 112ms/step - loss: 6.5512e-05 - accuracy: 1.0000 - val_loss: 0.0049 - val_accuracy: 0.9981\n",
      "Epoch 21/30\n",
      "68/68 [==============================] - 8s 112ms/step - loss: 0.0013 - accuracy: 0.9991 - val_loss: 3.9795e-04 - val_accuracy: 1.0000\n",
      "Epoch 22/30\n",
      "68/68 [==============================] - 8s 112ms/step - loss: 0.0237 - accuracy: 0.9893 - val_loss: 1.5647 - val_accuracy: 0.9311\n",
      "Epoch 23/30\n",
      "68/68 [==============================] - 8s 112ms/step - loss: 0.0569 - accuracy: 0.9790 - val_loss: 12.5015 - val_accuracy: 0.6778\n",
      "Epoch 24/30\n",
      "68/68 [==============================] - 8s 112ms/step - loss: 0.0118 - accuracy: 0.9939 - val_loss: 3.3472 - val_accuracy: 0.8231\n",
      "Epoch 25/30\n",
      "68/68 [==============================] - 8s 112ms/step - loss: 0.0045 - accuracy: 0.9977 - val_loss: 0.1359 - val_accuracy: 0.9851\n",
      "Epoch 26/30\n",
      "68/68 [==============================] - 8s 112ms/step - loss: 6.1209e-04 - accuracy: 0.9991 - val_loss: 0.0743 - val_accuracy: 0.9907\n",
      "Epoch 27/30\n",
      "68/68 [==============================] - 8s 112ms/step - loss: 0.0234 - accuracy: 0.9921 - val_loss: 0.3618 - val_accuracy: 0.9609\n",
      "Epoch 28/30\n",
      "68/68 [==============================] - 8s 112ms/step - loss: 0.0039 - accuracy: 0.9986 - val_loss: 0.7748 - val_accuracy: 0.9106\n",
      "Epoch 29/30\n",
      "68/68 [==============================] - 8s 112ms/step - loss: 0.0013 - accuracy: 0.9995 - val_loss: 0.0783 - val_accuracy: 0.9907\n",
      "Epoch 30/30\n",
      "68/68 [==============================] - 8s 112ms/step - loss: 6.0626e-04 - accuracy: 0.9995 - val_loss: 0.0805 - val_accuracy: 0.9926\n",
      "17/17 [==============================] - 0s 23ms/step - loss: 0.0805 - accuracy: 0.9926\n",
      "Epoch 1/30\n",
      "68/68 [==============================] - 11s 116ms/step - loss: 0.0149 - accuracy: 0.9963 - val_loss: 0.0037 - val_accuracy: 1.0000\n",
      "Epoch 2/30\n",
      "68/68 [==============================] - 8s 112ms/step - loss: 5.0938e-04 - accuracy: 1.0000 - val_loss: 0.0144 - val_accuracy: 0.9944\n",
      "Epoch 3/30\n",
      "68/68 [==============================] - 8s 112ms/step - loss: 0.0024 - accuracy: 0.9986 - val_loss: 0.0571 - val_accuracy: 0.9907\n",
      "Epoch 4/30\n",
      "68/68 [==============================] - 8s 112ms/step - loss: 0.0110 - accuracy: 0.9967 - val_loss: 0.6077 - val_accuracy: 0.9814\n",
      "Epoch 5/30\n",
      "68/68 [==============================] - 8s 112ms/step - loss: 0.0152 - accuracy: 0.9902 - val_loss: 0.4786 - val_accuracy: 0.9311\n",
      "Epoch 6/30\n",
      "68/68 [==============================] - 8s 112ms/step - loss: 0.0019 - accuracy: 0.9981 - val_loss: 0.0029 - val_accuracy: 0.9981\n",
      "Epoch 7/30\n",
      "68/68 [==============================] - 8s 112ms/step - loss: 0.0018 - accuracy: 0.9991 - val_loss: 0.0046 - val_accuracy: 0.9981\n",
      "Epoch 8/30\n",
      "68/68 [==============================] - 8s 112ms/step - loss: 0.0014 - accuracy: 0.9991 - val_loss: 4.9333e-05 - val_accuracy: 1.0000\n",
      "Epoch 9/30\n",
      "68/68 [==============================] - 8s 112ms/step - loss: 6.2061e-04 - accuracy: 0.9995 - val_loss: 2.9746e-04 - val_accuracy: 1.0000\n",
      "Epoch 10/30\n",
      "68/68 [==============================] - 8s 112ms/step - loss: 1.3220e-04 - accuracy: 1.0000 - val_loss: 9.8280e-05 - val_accuracy: 1.0000\n",
      "Epoch 11/30\n",
      "68/68 [==============================] - 8s 112ms/step - loss: 1.0241e-04 - accuracy: 1.0000 - val_loss: 1.5004e-05 - val_accuracy: 1.0000\n",
      "Epoch 12/30\n",
      "68/68 [==============================] - 8s 112ms/step - loss: 5.6355e-05 - accuracy: 1.0000 - val_loss: 8.0897e-06 - val_accuracy: 1.0000\n",
      "Epoch 13/30\n",
      "68/68 [==============================] - 8s 112ms/step - loss: 4.5214e-04 - accuracy: 0.9995 - val_loss: 3.0633e-06 - val_accuracy: 1.0000\n",
      "Epoch 14/30\n",
      "68/68 [==============================] - 8s 113ms/step - loss: 1.7314e-04 - accuracy: 1.0000 - val_loss: 2.2019e-06 - val_accuracy: 1.0000\n",
      "Epoch 15/30\n",
      "68/68 [==============================] - 8s 112ms/step - loss: 5.7818e-04 - accuracy: 0.9995 - val_loss: 1.0096e-04 - val_accuracy: 1.0000\n",
      "Epoch 16/30\n",
      "68/68 [==============================] - 8s 112ms/step - loss: 5.0496e-05 - accuracy: 1.0000 - val_loss: 6.2895e-06 - val_accuracy: 1.0000\n",
      "Epoch 17/30\n",
      "68/68 [==============================] - 8s 112ms/step - loss: 0.0126 - accuracy: 0.9958 - val_loss: 50.5117 - val_accuracy: 0.5624\n",
      "Epoch 18/30\n",
      "68/68 [==============================] - 8s 112ms/step - loss: 0.0120 - accuracy: 0.9898 - val_loss: 0.1587 - val_accuracy: 0.9795\n",
      "Epoch 19/30\n",
      "68/68 [==============================] - 8s 112ms/step - loss: 0.0250 - accuracy: 0.9898 - val_loss: 1.2077 - val_accuracy: 0.8771\n",
      "Epoch 20/30\n",
      "68/68 [==============================] - 8s 112ms/step - loss: 0.0133 - accuracy: 0.9944 - val_loss: 0.2884 - val_accuracy: 0.9628\n",
      "Epoch 21/30\n",
      "68/68 [==============================] - 8s 112ms/step - loss: 0.0035 - accuracy: 0.9967 - val_loss: 0.0750 - val_accuracy: 0.9870\n",
      "Epoch 22/30\n",
      "68/68 [==============================] - 8s 112ms/step - loss: 2.5659e-04 - accuracy: 1.0000 - val_loss: 0.0547 - val_accuracy: 0.9944\n",
      "Epoch 23/30\n",
      "68/68 [==============================] - 8s 112ms/step - loss: 7.5327e-04 - accuracy: 0.9995 - val_loss: 0.0497 - val_accuracy: 0.9944\n",
      "Epoch 24/30\n",
      "68/68 [==============================] - 8s 112ms/step - loss: 7.6627e-04 - accuracy: 0.9991 - val_loss: 0.0403 - val_accuracy: 0.9963\n",
      "Epoch 25/30\n",
      "68/68 [==============================] - 8s 112ms/step - loss: 2.2188e-04 - accuracy: 1.0000 - val_loss: 0.0466 - val_accuracy: 0.9963\n",
      "Epoch 26/30\n",
      "68/68 [==============================] - 8s 112ms/step - loss: 0.0012 - accuracy: 0.9986 - val_loss: 0.0414 - val_accuracy: 0.9944\n",
      "Epoch 27/30\n",
      "68/68 [==============================] - 8s 112ms/step - loss: 2.3965e-04 - accuracy: 1.0000 - val_loss: 0.0454 - val_accuracy: 0.9944\n",
      "Epoch 28/30\n",
      "68/68 [==============================] - 8s 112ms/step - loss: 6.5696e-04 - accuracy: 0.9995 - val_loss: 0.0616 - val_accuracy: 0.9963\n",
      "Epoch 29/30\n",
      "68/68 [==============================] - 8s 112ms/step - loss: 3.0329e-04 - accuracy: 1.0000 - val_loss: 0.0593 - val_accuracy: 0.9944\n",
      "Epoch 30/30\n",
      "68/68 [==============================] - 8s 112ms/step - loss: 1.0753e-04 - accuracy: 1.0000 - val_loss: 0.0528 - val_accuracy: 0.9963\n",
      "17/17 [==============================] - 0s 23ms/step - loss: 0.0528 - accuracy: 0.9963\n",
      "Epoch 1/30\n",
      "68/68 [==============================] - 12s 137ms/step - loss: 0.0131 - accuracy: 0.9986 - val_loss: 4.9020e-05 - val_accuracy: 1.0000\n",
      "Epoch 2/30\n",
      "68/68 [==============================] - 8s 112ms/step - loss: 8.0002e-04 - accuracy: 0.9991 - val_loss: 2.2527e-05 - val_accuracy: 1.0000\n",
      "Epoch 3/30\n",
      "68/68 [==============================] - 8s 112ms/step - loss: 0.0071 - accuracy: 0.9953 - val_loss: 8.5188e-07 - val_accuracy: 1.0000\n",
      "Epoch 4/30\n",
      "68/68 [==============================] - 8s 112ms/step - loss: 0.0133 - accuracy: 0.9958 - val_loss: 0.4160 - val_accuracy: 0.9608\n",
      "Epoch 5/30\n",
      "68/68 [==============================] - 8s 112ms/step - loss: 0.0062 - accuracy: 0.9977 - val_loss: 0.0664 - val_accuracy: 0.9888\n",
      "Epoch 6/30\n",
      "68/68 [==============================] - 8s 112ms/step - loss: 0.0034 - accuracy: 0.9991 - val_loss: 0.8718 - val_accuracy: 0.8974\n",
      "Epoch 7/30\n",
      "68/68 [==============================] - 8s 112ms/step - loss: 0.0032 - accuracy: 0.9981 - val_loss: 0.5853 - val_accuracy: 0.9720\n",
      "Epoch 8/30\n",
      "68/68 [==============================] - 8s 112ms/step - loss: 0.0040 - accuracy: 0.9981 - val_loss: 3.8245 - val_accuracy: 0.9011\n",
      "Epoch 9/30\n",
      "68/68 [==============================] - 8s 112ms/step - loss: 0.0030 - accuracy: 0.9991 - val_loss: 0.1811 - val_accuracy: 0.9795\n",
      "Epoch 10/30\n",
      "68/68 [==============================] - 8s 112ms/step - loss: 0.0018 - accuracy: 0.9981 - val_loss: 0.2196 - val_accuracy: 0.9608\n",
      "Epoch 11/30\n",
      "68/68 [==============================] - 8s 112ms/step - loss: 0.0010 - accuracy: 0.9995 - val_loss: 0.0161 - val_accuracy: 0.9981\n",
      "Epoch 12/30\n",
      "68/68 [==============================] - 8s 112ms/step - loss: 2.1034e-04 - accuracy: 1.0000 - val_loss: 1.1687e-06 - val_accuracy: 1.0000\n",
      "Epoch 13/30\n",
      "68/68 [==============================] - 8s 112ms/step - loss: 0.0070 - accuracy: 0.9977 - val_loss: 0.0036 - val_accuracy: 0.9981\n",
      "Epoch 14/30\n",
      "68/68 [==============================] - 8s 112ms/step - loss: 6.1563e-04 - accuracy: 0.9995 - val_loss: 0.0060 - val_accuracy: 0.9981\n",
      "Epoch 15/30\n",
      "68/68 [==============================] - 8s 112ms/step - loss: 4.2932e-04 - accuracy: 0.9995 - val_loss: 0.0022 - val_accuracy: 0.9981\n",
      "Epoch 16/30\n",
      "68/68 [==============================] - 8s 112ms/step - loss: 6.4243e-05 - accuracy: 1.0000 - val_loss: 5.3427e-04 - val_accuracy: 1.0000\n",
      "Epoch 17/30\n",
      "68/68 [==============================] - 8s 112ms/step - loss: 3.9078e-05 - accuracy: 1.0000 - val_loss: 1.9608e-04 - val_accuracy: 1.0000\n",
      "Epoch 18/30\n",
      "68/68 [==============================] - 8s 112ms/step - loss: 1.1235e-04 - accuracy: 1.0000 - val_loss: 2.1206e-05 - val_accuracy: 1.0000\n",
      "Epoch 19/30\n",
      "68/68 [==============================] - 8s 112ms/step - loss: 4.5647e-06 - accuracy: 1.0000 - val_loss: 1.3579e-05 - val_accuracy: 1.0000\n",
      "Epoch 20/30\n",
      "68/68 [==============================] - 8s 112ms/step - loss: 2.8535e-04 - accuracy: 1.0000 - val_loss: 6.1368e-06 - val_accuracy: 1.0000\n",
      "Epoch 21/30\n",
      "68/68 [==============================] - 8s 112ms/step - loss: 7.6468e-05 - accuracy: 1.0000 - val_loss: 8.0293e-06 - val_accuracy: 1.0000\n",
      "Epoch 22/30\n",
      "68/68 [==============================] - 8s 112ms/step - loss: 3.6718e-05 - accuracy: 1.0000 - val_loss: 1.8182e-05 - val_accuracy: 1.0000\n",
      "Epoch 23/30\n",
      "68/68 [==============================] - 8s 112ms/step - loss: 3.7827e-05 - accuracy: 1.0000 - val_loss: 5.7154e-05 - val_accuracy: 1.0000\n",
      "Epoch 24/30\n",
      "68/68 [==============================] - 8s 112ms/step - loss: 8.2699e-04 - accuracy: 0.9991 - val_loss: 5.3768e-04 - val_accuracy: 1.0000\n",
      "Epoch 25/30\n",
      "68/68 [==============================] - 8s 112ms/step - loss: 3.9268e-04 - accuracy: 0.9995 - val_loss: 0.0267 - val_accuracy: 0.9925\n",
      "Epoch 26/30\n",
      "68/68 [==============================] - 8s 112ms/step - loss: 0.0118 - accuracy: 0.9986 - val_loss: 1.6206 - val_accuracy: 0.9291\n",
      "Epoch 27/30\n",
      "68/68 [==============================] - 8s 112ms/step - loss: 0.0267 - accuracy: 0.9916 - val_loss: 0.1138 - val_accuracy: 0.9757\n",
      "Epoch 28/30\n",
      "68/68 [==============================] - 8s 112ms/step - loss: 0.0114 - accuracy: 0.9935 - val_loss: 0.0266 - val_accuracy: 0.9907\n",
      "Epoch 29/30\n",
      "68/68 [==============================] - 8s 112ms/step - loss: 0.0210 - accuracy: 0.9912 - val_loss: 0.4103 - val_accuracy: 0.9701\n",
      "Epoch 30/30\n",
      "68/68 [==============================] - 8s 112ms/step - loss: 0.0025 - accuracy: 0.9981 - val_loss: 0.0128 - val_accuracy: 0.9944\n",
      "17/17 [==============================] - 0s 23ms/step - loss: 0.0128 - accuracy: 0.9944\n"
     ]
    }
   ],
   "source": [
    "kfold = KFold(n_splits=5, shuffle=True)\n",
    "scores = []\n",
    "\n",
    "for train_i, test_i in kfold.split(train_images):\n",
    "  X_train, X_test = train_images[train_i], train_images[test_i]\n",
    "  y_train, y_test = train_labels[train_i], train_labels[test_i]\n",
    "\n",
    "  cnn.compile(optimizer='adam', loss='binary_crossentropy', metrics=['accuracy'])\n",
    "  history = cnn.fit(X_train, y_train, epochs=30, class_weight=class_weight, validation_data=(X_test, y_test))\n",
    "  scores.append(cnn.evaluate(X_test, y_test)[1])"
   ]
  },
  {
   "cell_type": "code",
   "execution_count": 64,
   "metadata": {
    "colab": {
     "base_uri": "https://localhost:8080/",
     "height": 490
    },
    "id": "QRcGgaCKQWVq",
    "outputId": "7cbc9cbe-aea5-4057-fb4e-234a5b6d9b2a"
   },
   "outputs": [
    {
     "data": {
      "text/plain": [
       "0.976161801815033"
      ]
     },
     "execution_count": 64,
     "metadata": {},
     "output_type": "execute_result"
    },
    {
     "data": {
      "image/png": "[encoded data removed]",
      "text/plain": [
       "<Figure size 640x480 with 1 Axes>"
      ]
     },
     "metadata": {},
     "output_type": "display_data"
    }
   ],
   "source": [
    "plt.plot(scores)\n",
    "plt.title('K-Fold Cross-Validation')\n",
    "plt.xlabel('Fold')\n",
    "plt.ylabel('Accuracy')\n",
    "plt.grid()\n",
    "sum(scores)/len(scores)"
   ]
  },
  {
   "cell_type": "markdown",
   "metadata": {
    "id": "Hn8ULGMaJYe4"
   },
   "source": [
    "## Result"
   ]
  },
  {
   "cell_type": "code",
   "execution_count": 46,
   "metadata": {
    "colab": {
     "base_uri": "https://localhost:8080/"
    },
    "id": "yHCjzEshTztS",
    "outputId": "e329f5a0-2220-48b5-e91f-fbeeb22f1df3"
   },
   "outputs": [
    {
     "name": "stdout",
     "output_type": "stream",
     "text": [
      "20/20 [==============================] - 1s 25ms/step\n"
     ]
    }
   ],
   "source": [
    "pred = cnn.predict(test_images)"
   ]
  },
  {
   "cell_type": "code",
   "execution_count": 47,
   "metadata": {
    "id": "Cfx9cgKrUzJG"
   },
   "outputs": [],
   "source": [
    "threshold = 0.5\n",
    "pred_labels = (pred > threshold).astype(int)"
   ]
  },
  {
   "cell_type": "code",
   "execution_count": 48,
   "metadata": {
    "colab": {
     "base_uri": "https://localhost:8080/",
     "height": 472
    },
    "id": "I9OSTs_mUBaZ",
    "outputId": "0e5182d5-765c-4883-ba80-4e9e9240e55a"
   },
   "outputs": [
    {
     "data": {
      "image/png": "[encoded data removed]",
      "text/plain": [
       "<Figure size 640x480 with 2 Axes>"
      ]
     },
     "metadata": {},
     "output_type": "display_data"
    }
   ],
   "source": [
    "# Convert float into int\n",
    "threshold = 0.5\n",
    "pred_labels = (pred > threshold).astype(int)\n",
    "\n",
    "conf_matrix = confusion_matrix(test_labels, pred_labels)\n",
    "\n",
    "#Column = Pred 0 1\n",
    "#Row = True 0 1\n",
    "\n",
    "sns.heatmap(conf_matrix, annot=True, cmap='Blues', fmt='g', xticklabels=['Normal','Pneumonia'], yticklabels=['Normal','Pneumonia'])\n",
    "plt.xlabel('Predicted labels')\n",
    "plt.ylabel('True labels')\n",
    "plt.title('Confusion Matrix')\n",
    "plt.show()"
   ]
  },
  {
   "cell_type": "code",
   "execution_count": 49,
   "metadata": {
    "colab": {
     "base_uri": "https://localhost:8080/",
     "height": 449
    },
    "id": "7ZKQ0ZMmVq4q",
    "outputId": "671feb1b-2951-4b16-d954-db524dc29635"
   },
   "outputs": [
    {
     "data": {
      "image/png": "[encoded data removed]",
      "text/plain": [
       "<Figure size 640x480 with 1 Axes>"
      ]
     },
     "metadata": {},
     "output_type": "display_data"
    }
   ],
   "source": [
    "v_loss = history.history['val_loss']\n",
    "loss = history.history['loss']\n",
    "\n",
    "plt.plot(v_loss, label='Validation Loss')\n",
    "plt.plot(loss, label='Training Loss')\n",
    "plt.xlabel('Epoch')\n",
    "plt.ylabel('Loss')\n",
    "plt.legend()\n",
    "plt.grid()"
   ]
  },
  {
   "cell_type": "code",
   "execution_count": 50,
   "metadata": {
    "colab": {
     "base_uri": "https://localhost:8080/",
     "height": 449
    },
    "id": "Ppco2lEgX8YW",
    "outputId": "ebd44487-3cfa-4723-92db-dd9692cbf5e4"
   },
   "outputs": [
    {
     "data": {
      "image/png": "[encoded data removed]",
      "text/plain": [
       "<Figure size 640x480 with 1 Axes>"
      ]
     },
     "metadata": {},
     "output_type": "display_data"
    }
   ],
   "source": [
    "v_acc = history.history['val_accuracy']\n",
    "acc = history.history['accuracy']\n",
    "\n",
    "plt.plot(v_acc, label='Validation Accuracy')\n",
    "plt.plot(acc, label='Training Accuracy')\n",
    "plt.xlabel('Epoch')\n",
    "plt.ylabel('Accuracy')\n",
    "plt.legend()\n",
    "plt.grid()"
   ]
  },
  {
   "cell_type": "markdown",
   "metadata": {
    "id": "MOLcZ-wwrp8_"
   },
   "source": [
    "## Model Summary"
   ]
  },
  {
   "cell_type": "code",
   "execution_count": 51,
   "metadata": {
    "colab": {
     "base_uri": "https://localhost:8080/"
    },
    "id": "OkUQb7GcrUNH",
    "outputId": "dc7040a7-a4ec-467e-970d-3ee31fb868dc"
   },
   "outputs": [
    {
     "name": "stdout",
     "output_type": "stream",
     "text": [
      "Model: \"sequential\"\n",
      "_________________________________________________________________\n",
      " Layer (type)                Output Shape              Param #   \n",
      "=================================================================\n",
      " conv2d (Conv2D)             (None, 126, 126, 64)      640       \n",
      "                                                                 \n",
      " leaky_re_lu (LeakyReLU)     (None, 126, 126, 64)      0         \n",
      "                                                                 \n",
      " batch_normalization (Batch  (None, 126, 126, 64)      256       \n",
      " Normalization)                                                  \n",
      "                                                                 \n",
      " conv2d_1 (Conv2D)           (None, 124, 124, 64)      36928     \n",
      "                                                                 \n",
      " leaky_re_lu_1 (LeakyReLU)   (None, 124, 124, 64)      0         \n",
      "                                                                 \n",
      " batch_normalization_1 (Bat  (None, 124, 124, 64)      256       \n",
      " chNormalization)                                                \n",
      "                                                                 \n",
      " max_pooling2d (MaxPooling2  (None, 62, 62, 64)        0         \n",
      " D)                                                              \n",
      "                                                                 \n",
      " conv2d_2 (Conv2D)           (None, 60, 60, 64)        36928     \n",
      "                                                                 \n",
      " leaky_re_lu_2 (LeakyReLU)   (None, 60, 60, 64)        0         \n",
      "                                                                 \n",
      " batch_normalization_2 (Bat  (None, 60, 60, 64)        256       \n",
      " chNormalization)                                                \n",
      "                                                                 \n",
      " conv2d_3 (Conv2D)           (None, 58, 58, 64)        36928     \n",
      "                                                                 \n",
      " leaky_re_lu_3 (LeakyReLU)   (None, 58, 58, 64)        0         \n",
      "                                                                 \n",
      " batch_normalization_3 (Bat  (None, 58, 58, 64)        256       \n",
      " chNormalization)                                                \n",
      "                                                                 \n",
      " max_pooling2d_1 (MaxPoolin  (None, 29, 29, 64)        0         \n",
      " g2D)                                                            \n",
      "                                                                 \n",
      " dropout (Dropout)           (None, 29, 29, 64)        0         \n",
      "                                                                 \n",
      " flatten (Flatten)           (None, 53824)             0         \n",
      "                                                                 \n",
      " dense (Dense)               (None, 128)               6889600   \n",
      "                                                                 \n",
      " leaky_re_lu_4 (LeakyReLU)   (None, 128)               0         \n",
      "                                                                 \n",
      " dense_1 (Dense)             (None, 64)                8256      \n",
      "                                                                 \n",
      " leaky_re_lu_5 (LeakyReLU)   (None, 64)                0         \n",
      "                                                                 \n",
      " dense_2 (Dense)             (None, 32)                2080      \n",
      "                                                                 \n",
      " dropout_1 (Dropout)         (None, 32)                0         \n",
      "                                                                 \n",
      " leaky_re_lu_6 (LeakyReLU)   (None, 32)                0         \n",
      "                                                                 \n",
      " dropout_2 (Dropout)         (None, 32)                0         \n",
      "                                                                 \n",
      " dense_3 (Dense)             (None, 1)                 33        \n",
      "                                                                 \n",
      "=================================================================\n",
      "Total params: 7012417 (26.75 MB)\n",
      "Trainable params: 7011905 (26.75 MB)\n",
      "Non-trainable params: 512 (2.00 KB)\n",
      "_________________________________________________________________\n"
     ]
    }
   ],
   "source": [
    "cnn.summary()"
   ]
  }
 ],
 "metadata": {
  "accelerator": "GPU",
  "colab": {
   "gpuType": "T4",
   "machine_shape": "hm",
   "provenance": []
  },
  "kernelspec": {
   "display_name": "Python 3 (ipykernel)",
   "language": "python",
   "name": "python3"
  },
  "language_info": {
   "codemirror_mode": {
    "name": "ipython",
    "version": 3
   },
   "file_extension": ".py",
   "mimetype": "text/x-python",
   "name": "python",
   "nbconvert_exporter": "python",
   "pygments_lexer": "ipython3",
   "version": "3.11.2"
  }
 },
 "nbformat": 4,
 "nbformat_minor": 4
}
